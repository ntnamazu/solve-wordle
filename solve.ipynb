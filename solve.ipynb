{
 "cells": [
  {
   "cell_type": "code",
   "execution_count": null,
   "metadata": {},
   "outputs": [],
   "source": [
    "import re\n",
    "import sys"
   ]
  },
  {
   "cell_type": "code",
   "execution_count": null,
   "metadata": {},
   "outputs": [],
   "source": [
    "def eval_length(word):\n",
    "    if len(word) == 5:\n",
    "        pass\n",
    "    else:\n",
    "        raise ValueError(\"Word you entered is not 5 letters!\")"
   ]
  },
  {
   "cell_type": "code",
   "execution_count": null,
   "metadata": {},
   "outputs": [],
   "source": [
    "def eval_feedback(feedback):\n",
    "    fbk_pattern = re.compile('[bgy][bgy][bgy][bgy][bgy]')\n",
    "    if fbk_pattern.match(feedback) is None:\n",
    "        raise ValueError(\"Invalid feedback! Feedback must only be composed of 'b', 'g', and 'y'!\")\n",
    "    else:\n",
    "        pass"
   ]
  },
  {
   "cell_type": "code",
   "execution_count": null,
   "metadata": {},
   "outputs": [],
   "source": [
    "def capt_ans_and_res(i):\n",
    "    ans = input(\"What did you answered as the answer {}? :\".format(i + 1))\n",
    "    eval_length(ans)\n",
    "    res = input('What feedback is returned from Wordle? (Input example: \"bbygb\" [\"b\" = black, \"y\" = yellow, \"g\" = green])')\n",
    "    eval_feedback(res)\n",
    "    if res == 'ggggg':\n",
    "        print('Congratulations!')\n",
    "        sys.exit()\n",
    "    map_list = []\n",
    "    for i in range(5):\n",
    "        map_list += [[list(ans)[i], list(res)[i]]]\n",
    "    return ans, map_list"
   ]
  },
  {
   "cell_type": "code",
   "execution_count": null,
   "metadata": {},
   "outputs": [],
   "source": [
    "def pattern_list_update(pattern_list, map_list):\n",
    "    upd_list = pattern_list\n",
    "    for i in range(len(map_list)):\n",
    "        if map_list[i][1] == 'g':\n",
    "            upd_list[i] = map_list[i][0]\n",
    "    return upd_list"
   ]
  },
  {
   "cell_type": "code",
   "execution_count": null,
   "metadata": {},
   "outputs": [],
   "source": [
    "def words_filt(words, pattern, ans, map_list):\n",
    "    words_filt = [word for word in words if pattern.match(word) is not None]\n",
    "    for i in range(len(map_list)):\n",
    "        if map_list[i][1] == 'y':\n",
    "            words_filt = [word for word in words_filt if map_list[i][0] in word]\n",
    "            words_filt = [word for word in words_filt if map_list[i][0] != list(word)[i]]\n",
    "        if map_list[i][1] == 'b':\n",
    "            words_filt = [word for word in words_filt if map_list[i][0] not in word]\n",
    "    words_filt = [word for word in words_filt if word != ans]\n",
    "    words_filt.sort()\n",
    "    return words_filt"
   ]
  },
  {
   "cell_type": "code",
   "execution_count": null,
   "metadata": {},
   "outputs": [],
   "source": [
    "def main(words):\n",
    "    pattern_list = ['[a-z]', '[a-z]', '[a-z]', '[a-z]', '[a-z]']\n",
    "    _words = words\n",
    "    for i in range(5):\n",
    "        ans, ans_list = capt_ans_and_res(i)\n",
    "        pattern_list = pattern_list_update(pattern_list, ans_list)\n",
    "        pattern = re.compile(''.join(pattern_list))\n",
    "        _words = words_filt(_words, pattern, ans, ans_list)\n",
    "        print('Choose one and enter into Wordle for the next answer:', _words)"
   ]
  },
  {
   "cell_type": "code",
   "execution_count": null,
   "metadata": {},
   "outputs": [],
   "source": [
    "file = open('words.txt')\n",
    "words = file.read().split()\n",
    "file.close()"
   ]
  },
  {
   "cell_type": "code",
   "execution_count": null,
   "metadata": {},
   "outputs": [],
   "source": [
    "main(words)"
   ]
  }
 ],
 "metadata": {
  "interpreter": {
   "hash": "31f2aee4e71d21fbe5cf8b01ff0e069b9275f58929596ceb00d14d90e3e16cd6"
  },
  "kernelspec": {
   "display_name": "Python 3.8.9 64-bit",
   "language": "python",
   "name": "python3"
  },
  "language_info": {
   "codemirror_mode": {
    "name": "ipython",
    "version": 3
   },
   "file_extension": ".py",
   "mimetype": "text/x-python",
   "name": "python",
   "nbconvert_exporter": "python",
   "pygments_lexer": "ipython3",
   "version": "3.8.9"
  },
  "orig_nbformat": 4
 },
 "nbformat": 4,
 "nbformat_minor": 2
}
