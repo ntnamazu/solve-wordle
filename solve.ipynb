{
 "cells": [
  {
   "cell_type": "code",
   "execution_count": 1,
   "metadata": {},
   "outputs": [],
   "source": [
    "import re"
   ]
  },
  {
   "cell_type": "code",
   "execution_count": 2,
   "metadata": {},
   "outputs": [],
   "source": [
    "file = open('words.txt')\n",
    "words = file.read().split()\n",
    "#print(words)\n",
    "file.close()"
   ]
  },
  {
   "cell_type": "code",
   "execution_count": 3,
   "metadata": {},
   "outputs": [],
   "source": [
    "def eval_length(word):\n",
    "    if len(word) == 5:\n",
    "        pass\n",
    "    else:\n",
    "        # print('Word you entered is not 5 letters!')\n",
    "        raise ValueError(\"Word you entered is not 5 letters!\")\n",
    "        # sys.exit()"
   ]
  },
  {
   "cell_type": "code",
   "execution_count": 10,
   "metadata": {},
   "outputs": [],
   "source": [
    "def capt_ans_and_res(i):\n",
    "    ans = input(\"What did you answered as the answer {}? :\".format(i))\n",
    "    eval_length(ans)\n",
    "    res = input('What feedback is returned from Wordle? (Input example: \"bbygb\" [\"b\" = black, \"y\" = yellow, \"g\" = green])')\n",
    "    if res == 'ggggg':\n",
    "        sys.exit()\n",
    "    map_list = []\n",
    "    for i in range(5):\n",
    "        map_list += [[list(ans)[i], list(res)[i]]]\n",
    "\n",
    "    return ans, map_list"
   ]
  },
  {
   "cell_type": "code",
   "execution_count": 5,
   "metadata": {},
   "outputs": [],
   "source": [
    "def pattern_list_update(pattern_list, map_list):\n",
    "    _list = pattern_list\n",
    "    for i in range(len(map_list)):\n",
    "        if map_list[i][1] == 'g':\n",
    "            pattern_list[i] = map_list[i][0]\n",
    "    return _list"
   ]
  },
  {
   "cell_type": "code",
   "execution_count": 6,
   "metadata": {},
   "outputs": [],
   "source": [
    "def words_filt(words, pattern, ans, map_list):\n",
    "    words_filt = [word for word in words if pattern.match(word) is not None]\n",
    "    for i in range(len(map_list)):\n",
    "        if map_list[i][1] == 'y':\n",
    "            words_filt = [word for word in words_filt if map_list[i][0] in word]\n",
    "            words_filt = [word for word in words_filt if map_list[i][0] != list(word)[i]]\n",
    "        if map_list[i][1] == 'b':\n",
    "            words_filt = [word for word in words_filt if map_list[i][0] not in word]\n",
    "    words_filt = [word for word in words_filt if word != ans]\n",
    "    words_filt.sort()\n",
    "    return words_filt"
   ]
  },
  {
   "cell_type": "code",
   "execution_count": 7,
   "metadata": {},
   "outputs": [],
   "source": [
    "def main(words):\n",
    "    pattern_list = ['[a-z]', '[a-z]', '[a-z]', '[a-z]', '[a-z]']\n",
    "    _words = words\n",
    "    for i in range(5):\n",
    "        ans, ans_list = capt_ans_and_res(i)\n",
    "        pattern_list = pattern_list_update(pattern_list, ans_list)\n",
    "        pattern = re.compile(''.join(pattern_list))\n",
    "        _words = words_filt(_words, pattern, ans, ans_list)\n",
    "        print('Choose one and enter into Wordle for the next answer:', _words)"
   ]
  },
  {
   "cell_type": "code",
   "execution_count": 11,
   "metadata": {},
   "outputs": [
    {
     "ename": "SystemExit",
     "evalue": "",
     "output_type": "error",
     "traceback": [
      "An exception has occurred, use %tb to see the full traceback.\n",
      "\u001b[0;31mSystemExit\u001b[0m\n"
     ]
    },
    {
     "name": "stderr",
     "output_type": "stream",
     "text": [
      "/Users/takaichinobuhiro/Library/Python/3.8/lib/python/site-packages/IPython/core/interactiveshell.py:3259: UserWarning: To exit: use 'exit', 'quit', or Ctrl-D.\n",
      "  warn(\"To exit: use 'exit', 'quit', or Ctrl-D.\", stacklevel=1)\n"
     ]
    }
   ],
   "source": [
    "main(words)"
   ]
  },
  {
   "cell_type": "code",
   "execution_count": null,
   "metadata": {},
   "outputs": [],
   "source": []
  }
 ],
 "metadata": {
  "interpreter": {
   "hash": "31f2aee4e71d21fbe5cf8b01ff0e069b9275f58929596ceb00d14d90e3e16cd6"
  },
  "kernelspec": {
   "display_name": "Python 3.8.9 64-bit",
   "language": "python",
   "name": "python3"
  },
  "language_info": {
   "codemirror_mode": {
    "name": "ipython",
    "version": 3
   },
   "file_extension": ".py",
   "mimetype": "text/x-python",
   "name": "python",
   "nbconvert_exporter": "python",
   "pygments_lexer": "ipython3",
   "version": "3.8.9"
  },
  "orig_nbformat": 4
 },
 "nbformat": 4,
 "nbformat_minor": 2
}
